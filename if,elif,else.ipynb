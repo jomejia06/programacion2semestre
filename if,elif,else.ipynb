{
  "nbformat": 4,
  "nbformat_minor": 0,
  "metadata": {
    "colab": {
      "name": "if,elif,else",
      "provenance": [],
      "authorship_tag": "ABX9TyOGjv0ajwsduq9mHZnGURgR",
      "include_colab_link": true
    },
    "kernelspec": {
      "name": "python3",
      "display_name": "Python 3"
    }
  },
  "cells": [
    {
      "cell_type": "markdown",
      "metadata": {
        "id": "view-in-github",
        "colab_type": "text"
      },
      "source": [
        "<a href=\"https://colab.research.google.com/github/jomejia06/programacion2semestre/blob/master/if%2Celif%2Celse.ipynb\" target=\"_parent\"><img src=\"https://colab.research.google.com/assets/colab-badge.svg\" alt=\"Open In Colab\"/></a>"
      ]
    },
    {
      "cell_type": "code",
      "metadata": {
        "id": "8gRuGJssgg2_",
        "colab_type": "code",
        "outputId": "f2ef681f-3b2a-4624-90c6-6542e2198784",
        "colab": {
          "base_uri": "https://localhost:8080/",
          "height": 34
        }
      },
      "source": [
        "x=100\n",
        "if x==2:\n",
        "  print(\"igual a dos\")\n",
        "elif x>2:\n",
        "  print(\"em mayor a dos\")\n",
        "else:\n",
        "  print (\"es menor a dos\")"
      ],
      "execution_count": 0,
      "outputs": [
        {
          "output_type": "stream",
          "text": [
            "em mayor a dos\n"
          ],
          "name": "stdout"
        }
      ]
    },
    {
      "cell_type": "code",
      "metadata": {
        "id": "mgKXmS5OSy95",
        "colab_type": "code",
        "colab": {}
      },
      "source": [
        "def comparar(x,y):\n",
        "  if x==y:\n",
        "    print (x,\"es igual a\",y)\n",
        "\n",
        "  elif x<y:\n",
        "    print (x,\"es menor que\",y)\n",
        "\n",
        "  else:\n",
        "    print (x,\"es mayor que\",y)\n",
        "\n"
      ],
      "execution_count": 0,
      "outputs": []
    },
    {
      "cell_type": "code",
      "metadata": {
        "id": "SVQ8gr1BX64Q",
        "colab_type": "code",
        "colab": {
          "base_uri": "https://localhost:8080/",
          "height": 34
        },
        "outputId": "8fd8bbf2-d682-4742-d05b-4407139289ba"
      },
      "source": [
        "\n",
        "comparar(x,y)"
      ],
      "execution_count": 20,
      "outputs": [
        {
          "output_type": "stream",
          "text": [
            " 3 es mayor que  1\n"
          ],
          "name": "stdout"
        }
      ]
    },
    {
      "cell_type": "code",
      "metadata": {
        "id": "UcW3KR-6jEsG",
        "colab_type": "code",
        "colab": {
          "base_uri": "https://localhost:8080/",
          "height": 51
        },
        "outputId": "48377bf3-04c2-4519-c0db-337f6cae1540"
      },
      "source": [
        "x=1\n",
        "y=0\n",
        "\n",
        "if x and y:\n",
        "  print(\"entro and\")\n",
        "\n",
        "if x or y:\n",
        "  print(\"entro or\")\n",
        "\n",
        "if x and not y:\n",
        "  print(\"entro tres\")\n"
      ],
      "execution_count": 21,
      "outputs": [
        {
          "output_type": "stream",
          "text": [
            "entro or\n",
            "entro tres\n"
          ],
          "name": "stdout"
        }
      ]
    }
  ]
}