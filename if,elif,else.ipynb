{
  "nbformat": 4,
  "nbformat_minor": 0,
  "metadata": {
    "colab": {
      "name": "if,elif,else",
      "provenance": [],
      "authorship_tag": "ABX9TyPTRW7+lFdbmzZVtaVNU3Hj",
      "include_colab_link": true
    },
    "kernelspec": {
      "name": "python3",
      "display_name": "Python 3"
    }
  },
  "cells": [
    {
      "cell_type": "markdown",
      "metadata": {
        "id": "view-in-github",
        "colab_type": "text"
      },
      "source": [
        "<a href=\"https://colab.research.google.com/github/jomejia06/programacion2semestre/blob/master/if%2Celif%2Celse.ipynb\" target=\"_parent\"><img src=\"https://colab.research.google.com/assets/colab-badge.svg\" alt=\"Open In Colab\"/></a>"
      ]
    },
    {
      "cell_type": "code",
      "metadata": {
        "id": "8gRuGJssgg2_",
        "colab_type": "code",
        "colab": {
          "base_uri": "https://localhost:8080/",
          "height": 34
        },
        "outputId": "f2ef681f-3b2a-4624-90c6-6542e2198784"
      },
      "source": [
        "x=100\n",
        "if x==2:\n",
        "  print(\"igual a dos\")\n",
        "elif x>2:\n",
        "  print(\"em mayor a dos\")\n",
        "else:\n",
        "  print (\"es menor a dos\")"
      ],
      "execution_count": 15,
      "outputs": [
        {
          "output_type": "stream",
          "text": [
            "em mayor a dos\n"
          ],
          "name": "stdout"
        }
      ]
    }
  ]
}