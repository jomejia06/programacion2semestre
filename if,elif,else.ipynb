{
  "nbformat": 4,
  "nbformat_minor": 0,
  "metadata": {
    "colab": {
      "name": "if,elif,else",
      "provenance": [],
      "authorship_tag": "ABX9TyNbkyzGC/Ju/OSoyAo7Rzs3",
      "include_colab_link": true
    },
    "kernelspec": {
      "name": "python3",
      "display_name": "Python 3"
    }
  },
  "cells": [
    {
      "cell_type": "markdown",
      "metadata": {
        "id": "view-in-github",
        "colab_type": "text"
      },
      "source": [
        "<a href=\"https://colab.research.google.com/github/jomejia06/programacion2semestre/blob/master/if%2Celif%2Celse.ipynb\" target=\"_parent\"><img src=\"https://colab.research.google.com/assets/colab-badge.svg\" alt=\"Open In Colab\"/></a>"
      ]
    },
    {
      "cell_type": "code",
      "metadata": {
        "id": "8gRuGJssgg2_",
        "colab_type": "code",
        "outputId": "8586ac9b-a1ea-443d-a05f-f68e3c08567a",
        "colab": {
          "base_uri": "https://localhost:8080/",
          "height": 34
        }
      },
      "source": [
        "x=100\n",
        "if x==2:\n",
        "  print(\"igual a dos\")\n",
        "elif x>2:\n",
        "  print(\"es mayor a dos\")\n",
        "else:\n",
        "  print (\"es menor a dos\")"
      ],
      "execution_count": 6,
      "outputs": [
        {
          "output_type": "stream",
          "text": [
            "es mayor a dos\n"
          ],
          "name": "stdout"
        }
      ]
    },
    {
      "cell_type": "code",
      "metadata": {
        "id": "mgKXmS5OSy95",
        "colab_type": "code",
        "colab": {
          "base_uri": "https://localhost:8080/",
          "height": 34
        },
        "outputId": "f3f3648f-6781-40d8-9dd1-fb6da45fc396"
      },
      "source": [
        "def comparar(x,y):\n",
        "  if x==y:\n",
        "    print (x,\"es igual a\",y)\n",
        "\n",
        "  elif x<y:\n",
        "    print (x,\"es menor que\",y)\n",
        "\n",
        "  else:\n",
        "    print (x,\"es mayor que\",y)\n",
        "  \n",
        "comparar (3,9)\n"
      ],
      "execution_count": 9,
      "outputs": [
        {
          "output_type": "stream",
          "text": [
            "3 es menor que 9\n"
          ],
          "name": "stdout"
        }
      ]
    },
    {
      "cell_type": "code",
      "metadata": {
        "id": "UcW3KR-6jEsG",
        "colab_type": "code",
        "outputId": "906d89c4-8d44-4700-eff5-5d359e162643",
        "colab": {
          "base_uri": "https://localhost:8080/",
          "height": 51
        }
      },
      "source": [
        "x=1\n",
        "y=0\n",
        "\n",
        "if x and y:\n",
        "  print(\"entro and\")\n",
        "\n",
        "if x or y:\n",
        "  print(\"entro or\")\n",
        "\n",
        "if x and not y:\n",
        "  print(\"entro tres\")\n"
      ],
      "execution_count": 5,
      "outputs": [
        {
          "output_type": "stream",
          "text": [
            "entro or\n",
            "entro tres\n"
          ],
          "name": "stdout"
        }
      ]
    },
    {
      "cell_type": "code",
      "metadata": {
        "id": "slbrU5ls03Wg",
        "colab_type": "code",
        "colab": {}
      },
      "source": [
        ""
      ],
      "execution_count": 0,
      "outputs": []
    }
  ]
}