{
  "nbformat": 4,
  "nbformat_minor": 0,
  "metadata": {
    "colab": {
      "name": "if,elif,else",
      "provenance": [],
      "authorship_tag": "ABX9TyMG9YoeS6eDqz+UPsSkwLFT",
      "include_colab_link": true
    },
    "kernelspec": {
      "name": "python3",
      "display_name": "Python 3"
    }
  },
  "cells": [
    {
      "cell_type": "markdown",
      "metadata": {
        "id": "view-in-github",
        "colab_type": "text"
      },
      "source": [
        "<a href=\"https://colab.research.google.com/github/jomejia06/programacion2semestre/blob/master/if%2Celif%2Celse.ipynb\" target=\"_parent\"><img src=\"https://colab.research.google.com/assets/colab-badge.svg\" alt=\"Open In Colab\"/></a>"
      ]
    },
    {
      "cell_type": "code",
      "metadata": {
        "id": "8gRuGJssgg2_",
        "colab_type": "code",
        "outputId": "8586ac9b-a1ea-443d-a05f-f68e3c08567a",
        "colab": {
          "base_uri": "https://localhost:8080/",
          "height": 34
        }
      },
      "source": [
        "x=100\n",
        "if x==2:\n",
        "  print(\"igual a dos\")\n",
        "elif x>2:\n",
        "  print(\"es mayor a dos\")\n",
        "else:\n",
        "  print (\"es menor a dos\")"
      ],
      "execution_count": 0,
      "outputs": [
        {
          "output_type": "stream",
          "text": [
            "es mayor a dos\n"
          ],
          "name": "stdout"
        }
      ]
    },
    {
      "cell_type": "code",
      "metadata": {
        "id": "mgKXmS5OSy95",
        "colab_type": "code",
        "outputId": "f3f3648f-6781-40d8-9dd1-fb6da45fc396",
        "colab": {
          "base_uri": "https://localhost:8080/",
          "height": 34
        }
      },
      "source": [
        "def comparar(x,y):\n",
        "  if x==y:\n",
        "    print (x,\"es igual a\",y)\n",
        "\n",
        "  elif x<y:\n",
        "    print (x,\"es menor que\",y)\n",
        "\n",
        "  else:\n",
        "    print (x,\"es mayor que\",y)\n",
        "  \n",
        "comparar (3,9)\n"
      ],
      "execution_count": 0,
      "outputs": [
        {
          "output_type": "stream",
          "text": [
            "3 es menor que 9\n"
          ],
          "name": "stdout"
        }
      ]
    },
    {
      "cell_type": "code",
      "metadata": {
        "id": "UcW3KR-6jEsG",
        "colab_type": "code",
        "outputId": "906d89c4-8d44-4700-eff5-5d359e162643",
        "colab": {
          "base_uri": "https://localhost:8080/",
          "height": 51
        }
      },
      "source": [
        "x=1\n",
        "y=0\n",
        "\n",
        "if x and y:\n",
        "  print(\"entro and\")\n",
        "\n",
        "if x or y:\n",
        "  print(\"entro or\")\n",
        "\n",
        "if x and not y:\n",
        "  print(\"entro tres\")\n"
      ],
      "execution_count": 0,
      "outputs": [
        {
          "output_type": "stream",
          "text": [
            "entro or\n",
            "entro tres\n"
          ],
          "name": "stdout"
        }
      ]
    },
    {
      "cell_type": "code",
      "metadata": {
        "id": "slbrU5ls03Wg",
        "colab_type": "code",
        "outputId": "5dc5d793-a9ee-4880-fad5-a8a2a34b7fc3",
        "colab": {
          "base_uri": "https://localhost:8080/",
          "height": 51
        }
      },
      "source": [
        "x= int (input (\"digite un numero\"))\n",
        "if x<0:\n",
        "  x=x*-1\n",
        "  print(\"el valor absoluto es\",x)\n",
        "else:\n",
        "  print(x)\n",
        "\n"
      ],
      "execution_count": 0,
      "outputs": [
        {
          "output_type": "stream",
          "text": [
            "digite un numero-329\n",
            "el valor absoluto es 329\n"
          ],
          "name": "stdout"
        }
      ]
    },
    {
      "cell_type": "code",
      "metadata": {
        "id": "NipMhOjDjuI5",
        "colab_type": "code",
        "outputId": "981eaadb-1d25-4e14-c329-32752dc41f41",
        "colab": {
          "base_uri": "https://localhost:8080/",
          "height": 68
        }
      },
      "source": [
        "numero1=int (input(\"digite un numero\"))\n",
        "numero2=int (input(\"digite otro numero\"))\n",
        "\n",
        "if numero2==0:\n",
        "  print (\"no es posible dividir por cero\")\n",
        "if numero1%numero2==0:\n",
        "  print(\"la division es exacta\")\n",
        "\n",
        "else:\n",
        "  print(\"la división no es exacta\")\n",
        "\n",
        "\n"
      ],
      "execution_count": 10,
      "outputs": [
        {
          "output_type": "stream",
          "text": [
            "digite un numero10\n",
            "digite otro numero2\n",
            "la division es exacta\n"
          ],
          "name": "stdout"
        }
      ]
    },
    {
      "cell_type": "code",
      "metadata": {
        "id": "EIaYnphGxK88",
        "colab_type": "code",
        "colab": {
          "base_uri": "https://localhost:8080/",
          "height": 68
        },
        "outputId": "b57c4398-8b04-4d5e-cfeb-17bc09be153c"
      },
      "source": [
        "numero1= int (input(\"escriba un numero entero\"))\n",
        "numero2= int (input(\"escriba otro numero entero\"))\n",
        "\n",
        "if numero1<numero2:\n",
        "  print (numero1,\"es menor que\",numero2)\n",
        "else:\n",
        "  print (numero2,\"es menor que\",numero1)"
      ],
      "execution_count": 13,
      "outputs": [
        {
          "output_type": "stream",
          "text": [
            "escriba un numero entero8\n",
            "escriba otro numero entero10\n",
            "8 es menor que 10\n"
          ],
          "name": "stdout"
        }
      ]
    },
    {
      "cell_type": "code",
      "metadata": {
        "id": "NqJxhzBZY0ib",
        "colab_type": "code",
        "colab": {
          "base_uri": "https://localhost:8080/",
          "height": 85
        },
        "outputId": "3c2eb58b-e465-4bcc-a50f-05833c7b09e4"
      },
      "source": [
        "añoactual= int (input(\"escriba el año actual:\"))\n",
        "añocualquiera= int (input(\"escriba un año mayor o menor al actual:\"))\n",
        "\n",
        "añospasados= añoactual-añocualquiera\n",
        "añospasados2= añocualquiera-añoactual\n",
        "\n",
        "if añoactual>añocualquiera:\n",
        "  print(\"los años que pasaron son\",añospasados)\n",
        "if añospasados==1:\n",
        "  print(\"hace falta 1 año para llegar a\",añoactual)\n",
        "elif añoactual<añocualquiera:\n",
        "  print(\"los años que pasaron son\", añospasados2)\n",
        "if añospasados2==1:\n",
        "  print(\"hace falta 1 año para llegar a\",añocualquiera)\n",
        "if añoactual==añocualquiera:\n",
        "  print(\"los años son igules\")\n",
        "\n"
      ],
      "execution_count": 54,
      "outputs": [
        {
          "output_type": "stream",
          "text": [
            "ERROR! Session/line number was not unique in database. History logging moved to new session 73\n",
            "escriba el año actual:2020\n",
            "escriba un año mayor o menor al actual:2020\n",
            "los años son igules\n"
          ],
          "name": "stdout"
        }
      ]
    }
  ]
}