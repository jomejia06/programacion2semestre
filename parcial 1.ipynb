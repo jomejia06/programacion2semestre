{
  "nbformat": 4,
  "nbformat_minor": 0,
  "metadata": {
    "colab": {
      "name": "Untitled4.ipynb",
      "provenance": [],
      "authorship_tag": "ABX9TyPahDKnwrI/7bxczPNoxz1X",
      "include_colab_link": true
    },
    "kernelspec": {
      "name": "python3",
      "display_name": "Python 3"
    }
  },
  "cells": [
    {
      "cell_type": "markdown",
      "metadata": {
        "id": "view-in-github",
        "colab_type": "text"
      },
      "source": [
        "<a href=\"https://colab.research.google.com/github/jomejia06/programacion2semestre/blob/master/parcial%201.ipynb\" target=\"_parent\"><img src=\"https://colab.research.google.com/assets/colab-badge.svg\" alt=\"Open In Colab\"/></a>"
      ]
    },
    {
      "cell_type": "markdown",
      "metadata": {
        "id": "NWgurr20VpPR",
        "colab_type": "text"
      },
      "source": [
        "ejercicio 1\n",
        "\n",
        "\n"
      ]
    },
    {
      "cell_type": "code",
      "metadata": {
        "id": "9As5wxAhVlEn",
        "colab_type": "code",
        "colab": {
          "base_uri": "https://localhost:8080/",
          "height": 51
        },
        "outputId": "3a24a2ed-1c1a-4666-dec7-6b032d979cc6"
      },
      "source": [
        "mayoredad= int (input(\"escriba su edad:\"))\n",
        "if mayoredad>=18:\n",
        "  print(\"usted es mayor de edad\")\n",
        "elif mayoredad<18:\n",
        "  print(\"usted es menor de edad\")"
      ],
      "execution_count": 38,
      "outputs": [
        {
          "output_type": "stream",
          "text": [
            "escriba su edad:12\n",
            "usted es menor de edad\n"
          ],
          "name": "stdout"
        }
      ]
    },
    {
      "cell_type": "markdown",
      "metadata": {
        "id": "dTp0ZDomVzqK",
        "colab_type": "text"
      },
      "source": [
        "ejercicio 2"
      ]
    },
    {
      "cell_type": "code",
      "metadata": {
        "id": "1wfCHBHUV2PV",
        "colab_type": "code",
        "colab": {
          "base_uri": "https://localhost:8080/",
          "height": 68
        },
        "outputId": "26061849-e146-4cec-8fce-277565360ab0"
      },
      "source": [
        "numero1=int (input(\"digite un numero:\"))\n",
        "numero2=int (input(\"digite otro numero:\"))\n",
        "\n",
        "if numero2==0:\n",
        "  print(\"error\")\n",
        "\n",
        "else:\n",
        "  print(\"el resultado es\",numero1/numero2)\n"
      ],
      "execution_count": 85,
      "outputs": [
        {
          "output_type": "stream",
          "text": [
            "digite un numero:10\n",
            "digite otro numero:0\n",
            "error\n"
          ],
          "name": "stdout"
        }
      ]
    },
    {
      "cell_type": "markdown",
      "metadata": {
        "id": "Q95TkaU9V6QI",
        "colab_type": "text"
      },
      "source": [
        "ejercicio 3\n"
      ]
    },
    {
      "cell_type": "code",
      "metadata": {
        "id": "HfgkCVBcV8f1",
        "colab_type": "code",
        "colab": {
          "base_uri": "https://localhost:8080/",
          "height": 51
        },
        "outputId": "40ecbf8e-6f29-4054-d6c5-2f594074fbcd"
      },
      "source": [
        "x= int (input(\"digite un numero entero:\"))\n",
        "\n",
        "if x%2==0:\n",
        "  print (\"el numero es par\")\n",
        "else:\n",
        "  print (\"es impar\")\n",
        "\n"
      ],
      "execution_count": 88,
      "outputs": [
        {
          "output_type": "stream",
          "text": [
            "digite un numero entero:13\n",
            "es impar\n"
          ],
          "name": "stdout"
        }
      ]
    },
    {
      "cell_type": "markdown",
      "metadata": {
        "id": "pleXrg5CV9xf",
        "colab_type": "text"
      },
      "source": [
        "ejercicio 4"
      ]
    },
    {
      "cell_type": "code",
      "metadata": {
        "id": "adRd-6LYV_Sx",
        "colab_type": "code",
        "colab": {
          "base_uri": "https://localhost:8080/",
          "height": 51
        },
        "outputId": "b697ca14-e6e3-4cfc-a6c2-b571aeac41c7"
      },
      "source": [
        "edad= int (input(\"digite su edad en numeros:\"))\n",
        "if edad<=4:\n",
        "  print(\"entras gratis\")\n",
        "if edad>4 and edad<=17:\n",
        "  print(\"pagas 5 euros\")\n",
        "elif edad>=18:\n",
        "  print(\"pagas 10 euros\")"
      ],
      "execution_count": 114,
      "outputs": [
        {
          "output_type": "stream",
          "text": [
            "digite su edad en numeros:21\n",
            "pagas 10 euros\n"
          ],
          "name": "stdout"
        }
      ]
    }
  ]
}