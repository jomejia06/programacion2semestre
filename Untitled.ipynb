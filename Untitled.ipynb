{
  "nbformat": 4,
  "nbformat_minor": 0,
  "metadata": {
    "colab": {
      "name": "Untitled",
      "provenance": [],
      "authorship_tag": "ABX9TyPtEDMJ3k9dK+O5Z9C72l7s",
      "include_colab_link": true
    },
    "kernelspec": {
      "name": "python3",
      "display_name": "Python 3"
    }
  },
  "cells": [
    {
      "cell_type": "markdown",
      "metadata": {
        "id": "view-in-github",
        "colab_type": "text"
      },
      "source": [
        "<a href=\"https://colab.research.google.com/github/jomejia06/programacion2semestre/blob/master/Untitled.ipynb\" target=\"_parent\"><img src=\"https://colab.research.google.com/assets/colab-badge.svg\" alt=\"Open In Colab\"/></a>"
      ]
    },
    {
      "cell_type": "markdown",
      "metadata": {
        "id": "b8Tge7CjkfF-",
        "colab_type": "text"
      },
      "source": [
        "**ejercicio 1**"
      ]
    },
    {
      "cell_type": "code",
      "metadata": {
        "id": "8CVqnxIjHvUN",
        "colab_type": "code",
        "outputId": "65b5e6cb-6ef5-42a3-844a-7053a70955cf",
        "colab": {
          "base_uri": "https://localhost:8080/",
          "height": 170
        }
      },
      "source": [
        "for i in range (1,10):\n",
        "  print (\"hola mundo\")\n"
      ],
      "execution_count": 7,
      "outputs": [
        {
          "output_type": "stream",
          "text": [
            "hola mundo\n",
            "hola mundo\n",
            "hola mundo\n",
            "hola mundo\n",
            "hola mundo\n",
            "hola mundo\n",
            "hola mundo\n",
            "hola mundo\n",
            "hola mundo\n"
          ],
          "name": "stdout"
        }
      ]
    },
    {
      "cell_type": "markdown",
      "metadata": {
        "id": "cQccYcoLkBf5",
        "colab_type": "text"
      },
      "source": [
        "**ejercicio 2**"
      ]
    },
    {
      "cell_type": "code",
      "metadata": {
        "id": "ELm7awEwjyLG",
        "colab_type": "code",
        "colab": {
          "base_uri": "https://localhost:8080/",
          "height": 170
        },
        "outputId": "5c03266c-b619-4a2e-ea27-740f92b4dc3c"
      },
      "source": [
        "x= 3\n",
        "for i in range (1,10):\n",
        "  print (\"hola mundo\",x)"
      ],
      "execution_count": 8,
      "outputs": [
        {
          "output_type": "stream",
          "text": [
            "hola mundo 3\n",
            "hola mundo 3\n",
            "hola mundo 3\n",
            "hola mundo 3\n",
            "hola mundo 3\n",
            "hola mundo 3\n",
            "hola mundo 3\n",
            "hola mundo 3\n",
            "hola mundo 3\n"
          ],
          "name": "stdout"
        }
      ]
    },
    {
      "cell_type": "markdown",
      "metadata": {
        "id": "dnE7kyhKk1pm",
        "colab_type": "text"
      },
      "source": [
        "**ejercicio 3**"
      ]
    },
    {
      "cell_type": "code",
      "metadata": {
        "id": "4OywEAQtkyis",
        "colab_type": "code",
        "colab": {
          "base_uri": "https://localhost:8080/",
          "height": 187
        },
        "outputId": "24f3c592-a5e0-4423-f7f4-11770a1da546"
      },
      "source": [
        "x= input(\"digite su nombre:\")\n",
        "for i in range(1,10):\n",
        "  print (\"hola\",x)"
      ],
      "execution_count": 10,
      "outputs": [
        {
          "output_type": "stream",
          "text": [
            "digite su nombre:jose daniel\n",
            "hola jose daniel\n",
            "hola jose daniel\n",
            "hola jose daniel\n",
            "hola jose daniel\n",
            "hola jose daniel\n",
            "hola jose daniel\n",
            "hola jose daniel\n",
            "hola jose daniel\n",
            "hola jose daniel\n"
          ],
          "name": "stdout"
        }
      ]
    },
    {
      "cell_type": "markdown",
      "metadata": {
        "id": "kPAdtEwjk79h",
        "colab_type": "text"
      },
      "source": [
        "**ejercicio 4**"
      ]
    },
    {
      "cell_type": "code",
      "metadata": {
        "id": "Gccl9oZXk_a2",
        "colab_type": "code",
        "colab": {
          "base_uri": "https://localhost:8080/",
          "height": 68
        },
        "outputId": "abecad05-45de-4196-8b28-b2169256f89b"
      },
      "source": [
        " y=input (\"digite su nombre:\")\n",
        " x= int (input(\"digite un numero entero:\"))\n",
        "\n",
        "lista = {y}\n",
        "for i in (lista):\n",
        "  print (i)\n",
        "\n"
      ],
      "execution_count": 43,
      "outputs": [
        {
          "output_type": "stream",
          "text": [
            "digite su nombre:jose\n",
            "digite un numero entero:5\n",
            "jose\n"
          ],
          "name": "stdout"
        }
      ]
    },
    {
      "cell_type": "markdown",
      "metadata": {
        "id": "eUrADs62lAB0",
        "colab_type": "text"
      },
      "source": [
        "**ejercicio 5**"
      ]
    },
    {
      "cell_type": "code",
      "metadata": {
        "id": "ThLApt3KlD8O",
        "colab_type": "code",
        "colab": {
          "base_uri": "https://localhost:8080/",
          "height": 68
        },
        "outputId": "9ddb6ee8-34ca-4305-c9cd-96fb607963b5"
      },
      "source": [
        "hora=int(input(\"numero de horas trabajadas\"))\n",
        "precio=int (input(\"costo de la hora\"))\n",
        "pago = hora*precio\n",
        "print (pago)\n",
        "\n"
      ],
      "execution_count": 60,
      "outputs": [
        {
          "output_type": "stream",
          "text": [
            "numero de horas trabajadas2\n",
            "costo de la hora1000\n",
            "2000\n"
          ],
          "name": "stdout"
        }
      ]
    },
    {
      "cell_type": "markdown",
      "metadata": {
        "id": "994HJjtSlEWt",
        "colab_type": "text"
      },
      "source": [
        "**ejercicio 6**"
      ]
    },
    {
      "cell_type": "code",
      "metadata": {
        "id": "sGXeXp1IlIqJ",
        "colab_type": "code",
        "colab": {
          "base_uri": "https://localhost:8080/",
          "height": 187
        },
        "outputId": "6cda5fc3-d418-4d73-98f6-4b2203898958"
      },
      "source": [
        "palabra= input (\"escriba una palabra:\")\n",
        "for i in range (1,10):\n",
        "  print (palabra)"
      ],
      "execution_count": 59,
      "outputs": [
        {
          "output_type": "stream",
          "text": [
            "escriba una palabra:jose\n",
            "jose\n",
            "jose\n",
            "jose\n",
            "jose\n",
            "jose\n",
            "jose\n",
            "jose\n",
            "jose\n",
            "jose\n"
          ],
          "name": "stdout"
        }
      ]
    },
    {
      "cell_type": "markdown",
      "metadata": {
        "id": "dt3AhmLQlJBa",
        "colab_type": "text"
      },
      "source": [
        "**ejercicio 7**"
      ]
    },
    {
      "cell_type": "code",
      "metadata": {
        "id": "vVcgS6A3lLq-",
        "colab_type": "code",
        "colab": {
          "base_uri": "https://localhost:8080/",
          "height": 272
        },
        "outputId": "b05464bf-0535-4b77-a812-642a168d23c7"
      },
      "source": [
        "edad= int(input (\"digite su edad: \"))\n",
        "for i in range(1,edad):\n",
        "  print(i)"
      ],
      "execution_count": 64,
      "outputs": [
        {
          "output_type": "stream",
          "text": [
            "digite su edad: 15\n",
            "1\n",
            "2\n",
            "3\n",
            "4\n",
            "5\n",
            "6\n",
            "7\n",
            "8\n",
            "9\n",
            "10\n",
            "11\n",
            "12\n",
            "13\n",
            "14\n"
          ],
          "name": "stdout"
        }
      ]
    },
    {
      "cell_type": "markdown",
      "metadata": {
        "id": "mYO29VTyFy5O",
        "colab_type": "text"
      },
      "source": [
        "**ejercicio 8**"
      ]
    },
    {
      "cell_type": "code",
      "metadata": {
        "id": "Ekv0xeCEFyet",
        "colab_type": "code",
        "colab": {}
      },
      "source": [
        "numero=int(input(\"escriba un numero entero mayor a 0: \"))\n",
        "\n",
        "\n"
      ],
      "execution_count": 0,
      "outputs": []
    }
  ]
}