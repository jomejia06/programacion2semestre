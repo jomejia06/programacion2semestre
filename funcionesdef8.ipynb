{
  "nbformat": 4,
  "nbformat_minor": 0,
  "metadata": {
    "colab": {
      "name": "Untitled8.ipynb",
      "provenance": [],
      "authorship_tag": "ABX9TyNSW8j+33RhMfWLdJc1VuLu",
      "include_colab_link": true
    },
    "kernelspec": {
      "name": "python3",
      "display_name": "Python 3"
    }
  },
  "cells": [
    {
      "cell_type": "markdown",
      "metadata": {
        "id": "view-in-github",
        "colab_type": "text"
      },
      "source": [
        "<a href=\"https://colab.research.google.com/github/jomejia06/programacion2semestre/blob/master/funcionesdef8.ipynb\" target=\"_parent\"><img src=\"https://colab.research.google.com/assets/colab-badge.svg\" alt=\"Open In Colab\"/></a>"
      ]
    },
    {
      "cell_type": "code",
      "metadata": {
        "id": "J6WOK9Qs9_cQ",
        "colab_type": "code",
        "colab": {
          "base_uri": "https://localhost:8080/",
          "height": 105
        },
        "outputId": "b32067ad-76fb-4b3d-ce48-de934605b1d4"
      },
      "source": [
        "nombre= input (\"escriba su nombre :\")\n",
        "edad= int (input(\"escriba su edad ¨:\"))\n",
        "tipodecargo= input(\"escriba su cargo :\")\n",
        "numtrabajadas= int (input(\"digite el numero de horas trabajadas por día :\"))\n",
        "numdias= int (input(\"digite el numero de dias trabajados :\")) \n",
        "\n",
        "gerente= 300*numtrabajadas*numdias\n",
        "gefe_de_area=200*numtrabajadas*numdias\n",
        "ingeniero=100*numtrabajadas*numdias\n",
        "operario=50*numtrabajadas*numdias\n",
        "\n",
        "def permiso(edad1):\n",
        "  if edad1 >13 and edad1<60:\n",
        "   return \"usted puede trabajar\"\n",
        "  else:\n",
        "   return \"usted no puede trabajar\"\n",
        "permiso(edad)\n",
        "\n",
        "def adquirir_datos (nombre,edad,tipodecargo,numtrabajadas,numdias):\n",
        "  if gerente:\n",
        "    print (\"su sueldo es\",gerente)\n",
        "  if gefe_de_area:\n",
        "    print (\"su sueldo es\",gefe_de_area)\n",
        "  if ingeniero:\n",
        "    print (\"su sueldo es\",ingeniero)\n",
        "  if operario:\n",
        "    print (\"su sueldo es\",operario)\n",
        "\n"
      ],
      "execution_count": 46,
      "outputs": [
        {
          "output_type": "stream",
          "text": [
            "escriba su nombre :jose\n",
            "escriba su edad ¨:23\n",
            "escriba su cargo :gegejh\n",
            "digite el numero de horas trabajadas por día :3\n",
            "digite el numero de dias trabajados :3\n"
          ],
          "name": "stdout"
        }
      ]
    },
    {
      "cell_type": "markdown",
      "metadata": {
        "id": "Sr687Oii8XW3",
        "colab_type": "text"
      },
      "source": [
        "vacaciones del personal de trabajo"
      ]
    },
    {
      "cell_type": "code",
      "metadata": {
        "id": "nLpFpc5u78rL",
        "colab_type": "code",
        "colab": {
          "base_uri": "https://localhost:8080/",
          "height": 70
        },
        "outputId": "645b9b81-4cfe-4480-b06c-73e42a45c6cc"
      },
      "source": [
        "nom=input (\"escriba su nombre : \")\n",
        "dias_trabajados= int (input (\"digite los dias que lleva trabajando : \"))\n",
        "\n",
        "if dias_trabajados>10:\n",
        "  print (nom,\"tienes derecho a dos dias de vacaciones\")\n",
        "else:\n",
        "  print(nom,\"no tienes dias compensatorios\")"
      ],
      "execution_count": 20,
      "outputs": [
        {
          "output_type": "stream",
          "text": [
            "escriba su nombre : jose\n",
            "digite los dias que lleva trabajando : 10000000\n",
            "jose tienes derecho a dos dias de vacaciones\n"
          ],
          "name": "stdout"
        }
      ]
    }
  ]
}