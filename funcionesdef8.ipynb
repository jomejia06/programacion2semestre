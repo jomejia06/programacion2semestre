{
  "nbformat": 4,
  "nbformat_minor": 0,
  "metadata": {
    "colab": {
      "name": "Untitled8.ipynb",
      "provenance": [],
      "authorship_tag": "ABX9TyPfMvDAPL9YxEqglgTnzkJV",
      "include_colab_link": true
    },
    "kernelspec": {
      "name": "python3",
      "display_name": "Python 3"
    }
  },
  "cells": [
    {
      "cell_type": "markdown",
      "metadata": {
        "id": "view-in-github",
        "colab_type": "text"
      },
      "source": [
        "<a href=\"https://colab.research.google.com/github/jomejia06/programacion2semestre/blob/master/funcionesdef8.ipynb\" target=\"_parent\"><img src=\"https://colab.research.google.com/assets/colab-badge.svg\" alt=\"Open In Colab\"/></a>"
      ]
    },
    {
      "cell_type": "markdown",
      "metadata": {
        "id": "Sr687Oii8XW3",
        "colab_type": "text"
      },
      "source": [
        "vacaciones del personal de trabajo"
      ]
    },
    {
      "cell_type": "code",
      "metadata": {
        "id": "nLpFpc5u78rL",
        "colab_type": "code",
        "outputId": "75c099b2-e02a-4139-d13b-30ac27744ae0",
        "colab": {
          "base_uri": "https://localhost:8080/",
          "height": 68
        }
      },
      "source": [
        "nom=input (\"escriba su nombre : \")\n",
        "dias_trabajados= int (input (\"digite los dias que lleva trabajando : \"))\n",
        "\n",
        "def vacaciones (descanso):\n",
        "   if descanso>10:\n",
        "     print (nom,\"tienes derecho a dos dias de vacaciones\")\n",
        "   else:\n",
        "     print(nom,\"no tienes dias compensatorios\")\n",
        "vacaciones(dias_trabajados)"
      ],
      "execution_count": 19,
      "outputs": [
        {
          "output_type": "stream",
          "text": [
            "escriba su nombre : jose\n",
            "digite los dias que lleva trabajando : 3\n",
            "jose no tienes dias compensatorios\n"
          ],
          "name": "stdout"
        }
      ]
    },
    {
      "cell_type": "code",
      "metadata": {
        "id": "F5VuGgefGCjj",
        "colab_type": "code",
        "colab": {
          "base_uri": "https://localhost:8080/",
          "height": 102
        },
        "outputId": "2624d697-f2c5-467d-8a24-a5574d19a191"
      },
      "source": [
        "nombre= input (\"escriba su nombre :\")\n",
        "edad= int (input(\"escriba su edad ¨:\"))\n",
        "\n",
        "\n",
        "def permiso(edad1):\n",
        "  if edad1 >13 and edad1<60:\n",
        "   return nombre,\"usted puede trabajar\"\n",
        "  else:\n",
        "   return nombre,\"usted no puede trabajar\"\n",
        "permiso(edad)"
      ],
      "execution_count": 17,
      "outputs": [
        {
          "output_type": "stream",
          "text": [
            "escriba su nombre :jose\n",
            "escriba su edad ¨:12\n",
            "escriba su cargo :gerente\n",
            "digite el numero de horas trabajadas por día :8\n",
            "digite el numero de dias trabajados :6\n"
          ],
          "name": "stdout"
        }
      ]
    },
    {
      "cell_type": "code",
      "metadata": {
        "id": "KkOxrjBb5rGA",
        "colab_type": "code",
        "colab": {
          "base_uri": "https://localhost:8080/",
          "height": 85
        },
        "outputId": "828015f5-8866-4b16-9412-5291f54d05b3"
      },
      "source": [
        "tipodecargo= input(\"escriba su cargo :\")\n",
        "numtrabajadas= int (input(\"digite el numero de horas trabajadas por día :\"))\n",
        "numdias= int (input(\"digite el numero de dias trabajados :\"))\n",
        "\n",
        "valorapagra= numtrabajadas*numdias\n",
        "\n",
        "def sueldo (tipodecargo, numtrabajadas, numdias):\n",
        "  if tipodecargo==gerente:\n",
        "    print (\"gerente su sueldo es\", 300000*valorapagra)\n",
        "  if tipodecargo==gefe_de_area:\n",
        "    print(\"gefe de area su sueldo es\", 200000*valorapagra)\n",
        "  if tipodecargo== ingeniero:\n",
        "    print(\"ingeniero su sueldo es\", 100000*valorapagra)\n",
        "  if tipodecargo== operario:\n",
        "    print(\"operario su sueldo es\", 30000*valorapagra)\n",
        "  \n",
        "\n",
        "sueldo (tipodecargo, numtrabajadas, numdias)\n"
      ],
      "execution_count": 44,
      "outputs": [
        {
          "output_type": "stream",
          "text": [
            "escriba su cargo :operario\n",
            "digite el numero de horas trabajadas por día :7\n",
            "digite el numero de dias trabajados :5\n",
            "ingeniero su sueldo es 3500000\n"
          ],
          "name": "stdout"
        }
      ]
    },
    {
      "cell_type": "code",
      "metadata": {
        "id": "VS5XtVZt-rXw",
        "colab_type": "code",
        "colab": {}
      },
      "source": [
        ""
      ],
      "execution_count": 0,
      "outputs": []
    }
  ]
}