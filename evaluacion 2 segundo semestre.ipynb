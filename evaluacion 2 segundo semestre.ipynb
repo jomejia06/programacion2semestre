{
  "nbformat": 4,
  "nbformat_minor": 0,
  "metadata": {
    "colab": {
      "name": "Untitled7.ipynb",
      "provenance": [],
      "authorship_tag": "ABX9TyMdvPwlG22Dch+bzHCpBsFd",
      "include_colab_link": true
    },
    "kernelspec": {
      "name": "python3",
      "display_name": "Python 3"
    }
  },
  "cells": [
    {
      "cell_type": "markdown",
      "metadata": {
        "id": "view-in-github",
        "colab_type": "text"
      },
      "source": [
        "<a href=\"https://colab.research.google.com/github/jomejia06/programacion2semestre/blob/master/evaluacion%202%20segundo%20semestre.ipynb\" target=\"_parent\"><img src=\"https://colab.research.google.com/assets/colab-badge.svg\" alt=\"Open In Colab\"/></a>"
      ]
    },
    {
      "cell_type": "markdown",
      "metadata": {
        "id": "EIT9wot6VDEN",
        "colab_type": "text"
      },
      "source": [
        "ejercicio 1"
      ]
    },
    {
      "cell_type": "code",
      "metadata": {
        "id": "srj3-LKCKz36",
        "colab_type": "code",
        "colab": {
          "base_uri": "https://localhost:8080/",
          "height": 34
        },
        "outputId": "173df800-07f0-4e18-af60-3d77198d948e"
      },
      "source": [
        "def area (b,a):\n",
        "  print(\"el area de ese rectangulo es\",A)\n",
        "\n",
        "A=b*a\n",
        "area(6,3)"
      ],
      "execution_count": 6,
      "outputs": [
        {
          "output_type": "stream",
          "text": [
            "el area de ese rectangulo es 18\n"
          ],
          "name": "stdout"
        }
      ]
    },
    {
      "cell_type": "markdown",
      "metadata": {
        "id": "HqKBdfQyVJwJ",
        "colab_type": "text"
      },
      "source": [
        "ejercicio 2"
      ]
    },
    {
      "cell_type": "code",
      "metadata": {
        "id": "EY6qp3rBM4Ku",
        "colab_type": "code",
        "colab": {
          "base_uri": "https://localhost:8080/",
          "height": 68
        },
        "outputId": "c588dac7-bcc9-48b8-abec-13d205ba8c79"
      },
      "source": [
        "def comparación (a,b):\n",
        "  if a>b:\n",
        "    print(1)\n",
        "  elif a<b:\n",
        "      print(-1)\n",
        "  else:\n",
        "        print(0)\n",
        "\n",
        "comparación (5,4)\n",
        "comparación (1,3)\n",
        "comparación (2,2)\n",
        "      \n",
        "  "
      ],
      "execution_count": 12,
      "outputs": [
        {
          "output_type": "stream",
          "text": [
            "1\n",
            "-1\n",
            "0\n"
          ],
          "name": "stdout"
        }
      ]
    },
    {
      "cell_type": "markdown",
      "metadata": {
        "id": "KYnioWeOVNhB",
        "colab_type": "text"
      },
      "source": [
        "ejercicio 3"
      ]
    },
    {
      "cell_type": "code",
      "metadata": {
        "id": "QLn_m6g6PvFu",
        "colab_type": "code",
        "colab": {
          "base_uri": "https://localhost:8080/",
          "height": 34
        },
        "outputId": "5b8eb550-ff57-41aa-baa4-1c7337b628f0"
      },
      "source": [
        "\n",
        "def intermedio(s,n):\n",
        "  print(\"el intermedio es\", (s+n)/2)\n",
        "\n",
        "\n",
        "intermedio (20,40)"
      ],
      "execution_count": 48,
      "outputs": [
        {
          "output_type": "stream",
          "text": [
            "el intermedio es 30.0\n"
          ],
          "name": "stdout"
        }
      ]
    },
    {
      "cell_type": "markdown",
      "metadata": {
        "id": "qiqQ7l4IVP2R",
        "colab_type": "text"
      },
      "source": [
        "ejercicio 4"
      ]
    },
    {
      "cell_type": "code",
      "metadata": {
        "id": "VJX1QqmqVAyX",
        "colab_type": "code",
        "colab": {
          "base_uri": "https://localhost:8080/",
          "height": 34
        },
        "outputId": "be3f859d-9906-4fe3-d4ce-6ef377b4e620"
      },
      "source": [
        "import math\n",
        "def circulo(radio):\n",
        "  print(\"el Area es\",math.pi*radio**2)\n",
        "\n",
        "circulo(50)"
      ],
      "execution_count": 44,
      "outputs": [
        {
          "output_type": "stream",
          "text": [
            "el Area es 7853.981633974483\n"
          ],
          "name": "stdout"
        }
      ]
    }
  ]
}