{
  "nbformat": 4,
  "nbformat_minor": 0,
  "metadata": {
    "colab": {
      "name": "ultimo parcial 2 semestre",
      "provenance": [],
      "authorship_tag": "ABX9TyMroHnbgIeTqu2TU5ur2c9M",
      "include_colab_link": true
    },
    "kernelspec": {
      "name": "python3",
      "display_name": "Python 3"
    }
  },
  "cells": [
    {
      "cell_type": "markdown",
      "metadata": {
        "id": "view-in-github",
        "colab_type": "text"
      },
      "source": [
        "<a href=\"https://colab.research.google.com/github/jomejia06/programacion2semestre/blob/master/ultimo_parcial_2_semestre.ipynb\" target=\"_parent\"><img src=\"https://colab.research.google.com/assets/colab-badge.svg\" alt=\"Open In Colab\"/></a>"
      ]
    },
    {
      "cell_type": "markdown",
      "metadata": {
        "id": "Oa6w580-aHj9",
        "colab_type": "text"
      },
      "source": [
        "1. DATOS"
      ]
    },
    {
      "cell_type": "code",
      "metadata": {
        "id": "Xk_46VwLFoZT",
        "colab_type": "code",
        "colab": {}
      },
      "source": [
        "import time \n",
        "datos= \"ph\"\n",
        "dato1= \"humedad\"\n",
        "dato2= \"temperatura\"\n",
        "while datos:\n",
        "  ph= float (input (\"introducir datos de ph : \"))\n",
        "  if dato1:\n",
        "    humedad= float (input (\"introducir datos de humedad : \"))\n",
        "    if dato2:\n",
        "      temperatura= float (input (\"introducir datos de temperatura : \"))\n",
        "    time.sleep (20)\n",
        "\n"
      ],
      "execution_count": 0,
      "outputs": []
    },
    {
      "cell_type": "markdown",
      "metadata": {
        "id": "1X_H2b89digE",
        "colab_type": "text"
      },
      "source": [
        "2. rechazo de productos de mala calidad"
      ]
    },
    {
      "cell_type": "code",
      "metadata": {
        "id": "XCQwMg40dC9b",
        "colab_type": "code",
        "colab": {
          "base_uri": "https://localhost:8080/",
          "height": 514
        },
        "outputId": "785d7afc-8a94-44a7-a211-5751825016cb"
      },
      "source": [
        "#ancho= float (input (\"introducir el ancho del producto : \"))\n",
        "#alto= float (input (\"introducir el alto del producto : \"))\n",
        "#tapa= int (input (\"si tiene tapa introduzca 1, si no tiene tapa introduzca 0\"))\n",
        "encendido=int (input (\"encienda la maquina con un 1 : \"))\n",
        "while encendido !=1:\n",
        "  encendido=int (input (\"encienda la maquina con un 1 : \"))\n",
        "while encendido ==1:\n",
        "    ancho= float (input (\"introducir el ancho del producto : \"))\n",
        "    alto= float (input (\"introducir el alto del producto : \"))\n",
        "    tapa= int (input (\"si tiene tapa introduzca 1, si no tiene tapa introduzca 0 : \"))\n",
        "    if ancho >90 or ancho <100: \n",
        "      if ancho<90 or ancho >100:\n",
        "        print (\"producto rechazado\")\n",
        "    if alto>150 or ancho <160:\n",
        "      if alto<150 or alto>160:\n",
        "        print (\"producto rechazado\")\n",
        "    if tapa==0:\n",
        "      print (\"producto rechazado\")\n",
        "      if tapa==1:\n",
        "        continue\n",
        "    newproducto= int (input (\"si hay un nuevo producto introduzaca 1, si no hay producto introduzca 0 : \"))\n",
        "    if newproducto==1:\n",
        "        print (encendido)\n",
        "    if newproducto==0:\n",
        "        print (\"no hay más producto para sensar\")\n",
        "        break\n",
        "   \n"
      ],
      "execution_count": 39,
      "outputs": [
        {
          "output_type": "stream",
          "text": [
            "encienda la maquina con un 1 : 1\n",
            "introducir el ancho del producto : 110\n",
            "introducir el alto del producto : 161\n",
            "si tiene tapa introduzca 1, si no tiene tapa introduzca 0 : 0\n",
            "producto rechazado\n",
            "producto rechazado\n",
            "producto rechazado\n",
            "si hay un nuevo producto introduzaca 1, si no hay producto introduzca 0 : 1\n",
            "1\n",
            "introducir el ancho del producto : 89\n",
            "introducir el alto del producto : 149\n",
            "si tiene tapa introduzca 1, si no tiene tapa introduzca 0 : 0\n",
            "producto rechazado\n",
            "producto rechazado\n",
            "producto rechazado\n",
            "si hay un nuevo producto introduzaca 1, si no hay producto introduzca 0 : 90\n",
            "introducir el ancho del producto : 150\n",
            "introducir el alto del producto : 1\n",
            "si tiene tapa introduzca 1, si no tiene tapa introduzca 0 : 1\n",
            "producto rechazado\n",
            "producto rechazado\n",
            "si hay un nuevo producto introduzaca 1, si no hay producto introduzca 0 : 1\n",
            "1\n",
            "introducir el ancho del producto : 90\n",
            "introducir el alto del producto : 150\n",
            "si tiene tapa introduzca 1, si no tiene tapa introduzca 0 : 1\n",
            "si hay un nuevo producto introduzaca 1, si no hay producto introduzca 0 : 0\n",
            "no hay más producto para sensar\n"
          ],
          "name": "stdout"
        }
      ]
    },
    {
      "cell_type": "code",
      "metadata": {
        "id": "zu6l7cZRe6ta",
        "colab_type": "code",
        "colab": {}
      },
      "source": [
        ""
      ],
      "execution_count": 0,
      "outputs": []
    }
  ]
}