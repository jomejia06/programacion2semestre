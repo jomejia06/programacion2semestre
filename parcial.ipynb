{
  "nbformat": 4,
  "nbformat_minor": 0,
  "metadata": {
    "colab": {
      "name": "parcial.ipynb",
      "provenance": [],
      "authorship_tag": "ABX9TyPDAvV9zcd3iQWw/r1++3/b",
      "include_colab_link": true
    },
    "kernelspec": {
      "name": "python3",
      "display_name": "Python 3"
    }
  },
  "cells": [
    {
      "cell_type": "markdown",
      "metadata": {
        "id": "view-in-github",
        "colab_type": "text"
      },
      "source": [
        "<a href=\"https://colab.research.google.com/github/jomejia06/programacion2semestre/blob/master/parcial.ipynb\" target=\"_parent\"><img src=\"https://colab.research.google.com/assets/colab-badge.svg\" alt=\"Open In Colab\"/></a>"
      ]
    },
    {
      "cell_type": "code",
      "metadata": {
        "id": "Lt3zU6YJtxW2",
        "colab_type": "code",
        "colab": {
          "base_uri": "https://localhost:8080/",
          "height": 123
        },
        "outputId": "8eb30074-7a8c-4408-afe9-203fff37c565"
      },
      "source": [
        "import time\n",
        "encendido= int (input(\"encienda maquina con 1 : \"))\n",
        "\n",
        "while encendido !=1:\n",
        "  print (\"encienda maquina con 1\")\n",
        "  encendido= int (input(\"encienda maquina con 1 : \"))\n",
        " \n",
        "\n",
        "temperatura= float (input (\"ingrese la temperatura : \"))\n",
        "humedad= float (input (\"ingrese la humedad : \"))\n",
        "grados= float (input(\"ingrese los grados brix : \"))\n",
        "\n",
        "\n",
        "if temperatura>60 or humedad>30:\n",
        "     print (\"valvula de gas : 1\")\n",
        "elif temperatura<60 or humedad<40:\n",
        "     print (\"valvula de gas : 0\")\n",
        "if grados>40:\n",
        "     print (\"valvula de agua : 1\")\n",
        "elif grados<40:\n",
        "     print (\"valvula de agua : 0\")\n",
        "\n",
        "time.sleep(6)\n",
        "\n"
      ],
      "execution_count": 72,
      "outputs": [
        {
          "output_type": "stream",
          "text": [
            "encienda maquina con 1 : 1\n",
            "ingrese la temperatura : 89\n",
            "ingrese la humedad : 65\n",
            "ingrese los grados brix : 45\n",
            "valvula de gas : 1\n",
            "valvula de agua : 1\n"
          ],
          "name": "stdout"
        }
      ]
    },
    {
      "cell_type": "code",
      "metadata": {
        "id": "arunYiir-gYL",
        "colab_type": "code",
        "colab": {
          "base_uri": "https://localhost:8080/",
          "height": 70
        },
        "outputId": "916df530-0081-4cdc-da9f-2f1d69592fae"
      },
      "source": [
        "encendido= int (input(\"encienda maquina con 1 : \"))\n",
        "\n",
        "while encendido !=1:\n",
        "  print (\"encienda maquina\")\n",
        "  encendido= int (input(\"encienda maquina con 1 : \"))\n",
        "\n",
        "  "
      ],
      "execution_count": 68,
      "outputs": [
        {
          "output_type": "stream",
          "text": [
            "encienda maquina con 1 : 0\n",
            "encienda maquina\n",
            "encienda maquina con 1 : 1\n"
          ],
          "name": "stdout"
        }
      ]
    },
    {
      "cell_type": "code",
      "metadata": {
        "id": "_e0KnDxf0jqL",
        "colab_type": "code",
        "colab": {}
      },
      "source": [
        ""
      ],
      "execution_count": 0,
      "outputs": []
    }
  ]
}