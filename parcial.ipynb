{
  "nbformat": 4,
  "nbformat_minor": 0,
  "metadata": {
    "colab": {
      "name": "parcial.ipynb",
      "provenance": [],
      "authorship_tag": "ABX9TyN7ABnxknnCJSlZgFf/p2e+",
      "include_colab_link": true
    },
    "kernelspec": {
      "name": "python3",
      "display_name": "Python 3"
    }
  },
  "cells": [
    {
      "cell_type": "markdown",
      "metadata": {
        "id": "view-in-github",
        "colab_type": "text"
      },
      "source": [
        "<a href=\"https://colab.research.google.com/github/jomejia06/programacion2semestre/blob/master/parcial.ipynb\" target=\"_parent\"><img src=\"https://colab.research.google.com/assets/colab-badge.svg\" alt=\"Open In Colab\"/></a>"
      ]
    },
    {
      "cell_type": "code",
      "metadata": {
        "id": "_e0KnDxf0jqL",
        "colab_type": "code",
        "colab": {
          "base_uri": "https://localhost:8080/",
          "height": 158
        },
        "outputId": "33493e57-4b7e-4894-e592-19cb044c8a02"
      },
      "source": [
        "import time\n",
        "encendido=int (input (\"encienda la maquina con un 1 : \"))\n",
        "while encendido!=1:\n",
        "  encendido=int (input (\"encienda la maquina con un 1 : \"))\n",
        "while encendido==1:\n",
        "    temperatura= float (input (\"ingrese la temperatura : \"))\n",
        "    humedad= float (input (\"ingrese la humedad : \"))\n",
        "    grados= float (input(\"ingrese los grados brix : \"))\n",
        "    if temperatura>60 or humedad>30:\n",
        "      print (\"valvula de gas abierta 1 \")\n",
        "    elif temperatura<60 or humedad<30:\n",
        "      print (\"valvula de gas cerrada 0 \")\n",
        "    if grados>40:\n",
        "      print (\"valvula de agua abierta 1 \")\n",
        "    elif grados<40:\n",
        "      print (\"valvula de agua cerrada 0 \")\n",
        "    time.sleep (6)\n",
        "    apagado= int (input (\"apague maquina con 0 :\"))\n",
        "    if apagado !=0:\n",
        "      print (encendido) \n",
        "    if apagado==0:\n",
        "      print (\"maquina apagada\")\n",
        "      break\n",
        "      \n",
        "    "
      ],
      "execution_count": 72,
      "outputs": [
        {
          "output_type": "stream",
          "text": [
            "encienda la maquina con un 1 : 1\n",
            "ingrese la temperatura : 89\n",
            "ingrese la humedad : 89\n",
            "ingrese los grados brix : 89\n",
            "valvula de gas abierta 1 \n",
            "valvula de agua abierta 1 \n",
            "apague maquina con 0 :0\n",
            "maquina apagada\n"
          ],
          "name": "stdout"
        }
      ]
    }
  ]
}