{
  "nbformat": 4,
  "nbformat_minor": 0,
  "metadata": {
    "colab": {
      "name": "uso de if, and, else.ipynb",
      "provenance": [],
      "authorship_tag": "ABX9TyMCJb8AFt4Rdbc5S7AVn/0l",
      "include_colab_link": true
    },
    "kernelspec": {
      "name": "python3",
      "display_name": "Python 3"
    }
  },
  "cells": [
    {
      "cell_type": "markdown",
      "metadata": {
        "id": "view-in-github",
        "colab_type": "text"
      },
      "source": [
        "<a href=\"https://colab.research.google.com/github/jomejia06/programacion2semestre/blob/master/uso_de_if%2C_and%2C_else.ipynb\" target=\"_parent\"><img src=\"https://colab.research.google.com/assets/colab-badge.svg\" alt=\"Open In Colab\"/></a>"
      ]
    },
    {
      "cell_type": "code",
      "metadata": {
        "id": "E_Tx8miiU6J1",
        "colab_type": "code",
        "colab": {
          "base_uri": "https://localhost:8080/",
          "height": 68
        },
        "outputId": "7f09d455-2790-4def-d7af-ced4d9c9072b"
      },
      "source": [
        "x= int (input (\"ingrese el primer numero\"))\n",
        "y= int (input (\"ingrese el segundo numero\"))\n",
        "\n",
        "if x>100 and y==30:\n",
        "  print (\"la condicion se cumplio\")\n",
        "else:\n",
        "  print (\"no se cumplio la condición\")\n"
      ],
      "execution_count": 13,
      "outputs": [
        {
          "output_type": "stream",
          "text": [
            "ingrese el primer numero110\n",
            "ingrese el segundo numero30\n",
            "la condicion se cumplio\n"
          ],
          "name": "stdout"
        }
      ]
    }
  ]
}